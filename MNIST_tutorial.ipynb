{
  "nbformat": 4,
  "nbformat_minor": 0,
  "metadata": {
    "colab": {
      "provenance": [],
      "authorship_tag": "ABX9TyOXbrlYfLT64K+Gd3ZbnLqa",
      "include_colab_link": true
    },
    "kernelspec": {
      "name": "python3",
      "display_name": "Python 3"
    },
    "language_info": {
      "name": "python"
    },
    "accelerator": "GPU",
    "gpuClass": "standard"
  },
  "cells": [
    {
      "cell_type": "markdown",
      "metadata": {
        "id": "view-in-github",
        "colab_type": "text"
      },
      "source": [
        "<a href=\"https://colab.research.google.com/github/nRknpy/MNIST-Pytorch-tutorial/blob/main/MNIST_tutorial.ipynb\" target=\"_parent\"><img src=\"https://colab.research.google.com/assets/colab-badge.svg\" alt=\"Open In Colab\"/></a>"
      ]
    },
    {
      "cell_type": "code",
      "execution_count": null,
      "metadata": {
        "id": "Ra75UXUkKTNs"
      },
      "outputs": [],
      "source": [
        "import numpy as np\n",
        "import matplotlib.pyplot as plt\n",
        "import torch\n",
        "import torch.nn as nn\n",
        "import torch.nn.functional as F\n",
        "import torch.optim as optim\n",
        "from torch.utils.data import DataLoader\n",
        "from torchvision import datasets, transforms\n",
        "from tqdm import tqdm\n",
        "from sklearn.metrics import accuracy_score, ConfusionMatrixDisplay, confusion_matrix"
      ]
    },
    {
      "cell_type": "code",
      "source": [
        "device = torch.device(\"cuda\" if torch.cuda.is_available() else \"cpu\")\n",
        "device"
      ],
      "metadata": {
        "colab": {
          "base_uri": "https://localhost:8080/"
        },
        "id": "FMmTZu0nLWXe",
        "outputId": "bdcdab14-e3ff-483b-fc51-f0e21c170835"
      },
      "execution_count": null,
      "outputs": [
        {
          "output_type": "execute_result",
          "data": {
            "text/plain": [
              "device(type='cuda')"
            ]
          },
          "metadata": {},
          "execution_count": 2
        }
      ]
    },
    {
      "cell_type": "markdown",
      "source": [
        "# MNISTデータセットを取得"
      ],
      "metadata": {
        "id": "CwkD0FemNWs6"
      }
    },
    {
      "cell_type": "code",
      "source": [
        "val_rate = 0.2"
      ],
      "metadata": {
        "id": "p33L4srtPeK6"
      },
      "execution_count": null,
      "outputs": []
    },
    {
      "cell_type": "code",
      "source": [
        "transform = transforms.Compose([\n",
        "    transforms.ToTensor()\n",
        "])\n",
        "# 訓練，評価用\n",
        "trainval_dataset = datasets.MNIST(\n",
        "    \"./data\",\n",
        "    train=True,\n",
        "    transform=transform,\n",
        "    download=True\n",
        ")\n",
        "# 訓練用と評価用に分ける\n",
        "train_size = int(len(trainval_dataset)*(1-val_rate))\n",
        "val_size = len(trainval_dataset) - train_size\n",
        "train_dataset, val_dataset = torch.utils.data.random_split(trainval_dataset,\n",
        "                                                           [train_size, val_size])\n",
        "\n",
        "# テスト用\n",
        "test_dataset = datasets.MNIST(\n",
        "    \"./data\",\n",
        "    train=False,\n",
        "    transform=transform,\n",
        "    download=True\n",
        ")"
      ],
      "metadata": {
        "id": "LdrPlJqUNT0n"
      },
      "execution_count": null,
      "outputs": []
    },
    {
      "cell_type": "code",
      "source": [
        "def mnist_show(data):\n",
        "  npimg = data[0].numpy().reshape((28, 28))\n",
        "  plt.title(f\"{data[1]}\")\n",
        "  plt.imshow(npimg, cmap=\"gray\")\n",
        "  plt.show()"
      ],
      "metadata": {
        "id": "uNrFEWqCjNC7"
      },
      "execution_count": null,
      "outputs": []
    },
    {
      "cell_type": "code",
      "source": [
        "# データセットの中身を見てみる\n",
        "for i in range(10):\n",
        "  mnist_show(train_dataset[i])\n",
        "  pass"
      ],
      "metadata": {
        "colab": {
          "base_uri": "https://localhost:8080/",
          "height": 1000
        },
        "id": "rT1E5xxJkmxT",
        "outputId": "e858fb59-d39b-497a-c24c-ef1a4ebfe198"
      },
      "execution_count": null,
      "outputs": [
        {
          "output_type": "display_data",
          "data": {
            "text/plain": [
              "<Figure size 432x288 with 1 Axes>"
            ],
            "image/png": "[encoded data removed]"
          },
          "metadata": {
            "needs_background": "light"
          }
        },
        {
          "output_type": "display_data",
          "data": {
            "text/plain": [
              "<Figure size 432x288 with 1 Axes>"
            ],
            "image/png": "[encoded data removed]"
          },
          "metadata": {
            "needs_background": "light"
          }
        },
        {
          "output_type": "display_data",
          "data": {
            "text/plain": [
              "<Figure size 432x288 with 1 Axes>"
            ],
            "image/png": "[encoded data removed]"
          },
          "metadata": {
            "needs_background": "light"
          }
        },
        {
          "output_type": "display_data",
          "data": {
            "text/plain": [
              "<Figure size 432x288 with 1 Axes>"
            ],
            "image/png": "[encoded data removed]"
          },
          "metadata": {
            "needs_background": "light"
          }
        },
        {
          "output_type": "display_data",
          "data": {
            "text/plain": [
              "<Figure size 432x288 with 1 Axes>"
            ],
            "image/png": "[encoded data removed]"
          },
          "metadata": {
            "needs_background": "light"
          }
        },
        {
          "output_type": "display_data",
          "data": {
            "text/plain": [
              "<Figure size 432x288 with 1 Axes>"
            ],
            "image/png": "[encoded data removed]"
          },
          "metadata": {
            "needs_background": "light"
          }
        },
        {
          "output_type": "display_data",
          "data": {
            "text/plain": [
              "<Figure size 432x288 with 1 Axes>"
            ],
            "image/png": "[encoded data removed]"
          },
          "metadata": {
            "needs_background": "light"
          }
        },
        {
          "output_type": "display_data",
          "data": {
            "text/plain": [
              "<Figure size 432x288 with 1 Axes>"
            ],
            "image/png": "[encoded data removed]"
          },
          "metadata": {
            "needs_background": "light"
          }
        },
        {
          "output_type": "display_data",
          "data": {
            "text/plain": [
              "<Figure size 432x288 with 1 Axes>"
            ],
            "image/png": "[encoded data removed]"
          },
          "metadata": {
            "needs_background": "light"
          }
        },
        {
          "output_type": "display_data",
          "data": {
            "text/plain": [
              "<Figure size 432x288 with 1 Axes>"
            ],
            "image/png": "[encoded data removed]"
          },
          "metadata": {
            "needs_background": "light"
          }
        }
      ]
    },
    {
      "cell_type": "code",
      "source": [
        "num_batch = 128"
      ],
      "metadata": {
        "id": "h4-RgX05Ut_W"
      },
      "execution_count": null,
      "outputs": []
    },
    {
      "cell_type": "code",
      "source": [
        "# DataLoaderを作成\n",
        "train_dataloader = DataLoader(train_dataset,\n",
        "                              batch_size=num_batch,\n",
        "                              shuffle=True,\n",
        "                              drop_last=True)\n",
        "val_dataloader = DataLoader(val_dataset,\n",
        "                            batch_size=num_batch,\n",
        "                            shuffle=False)\n",
        "test_dataloader = DataLoader(test_dataset,\n",
        "                             shuffle=False)"
      ],
      "metadata": {
        "id": "dtVOR0qlS_ls"
      },
      "execution_count": null,
      "outputs": []
    },
    {
      "cell_type": "markdown",
      "source": [
        "# NNを設計"
      ],
      "metadata": {
        "id": "0mteXqyvnnFs"
      }
    },
    {
      "cell_type": "code",
      "source": [
        "class NN(nn.Module):\n",
        "  def __init__(self):\n",
        "    super(NN, self).__init__()\n",
        "    self.fc1 = nn.Linear(28*28, 256)\n",
        "    self.fc2 = nn.Linear(256, 128)\n",
        "    self.fc3 = nn.Linear(128, 64)\n",
        "    self.fc4 = nn.Linear(64, 10)\n",
        "  \n",
        "  def forward(self, x):\n",
        "    x = x.view(-1, 28*28)\n",
        "    x = F.relu(self.fc1(x))\n",
        "    x = F.relu(self.fc2(x))\n",
        "    x = F.relu(self.fc3(x))\n",
        "    x = F.log_softmax(x, dim=1)\n",
        "    return x"
      ],
      "metadata": {
        "id": "TsHL_XVSVNR0"
      },
      "execution_count": null,
      "outputs": []
    },
    {
      "cell_type": "code",
      "source": [
        "model = NN().to(device)"
      ],
      "metadata": {
        "id": "mmswEtH1pJjD"
      },
      "execution_count": null,
      "outputs": []
    },
    {
      "cell_type": "markdown",
      "source": [
        "# 損失関数と最適化手法を定義"
      ],
      "metadata": {
        "id": "qCVxDAttpPAJ"
      }
    },
    {
      "cell_type": "code",
      "source": [
        "# 損失関数\n",
        "criterion = nn.CrossEntropyLoss()\n",
        "# 最適化手法\n",
        "optimizer = optim.Adam(model.parameters(), lr=1e-3)"
      ],
      "metadata": {
        "id": "NNT09tlxpOgD"
      },
      "execution_count": null,
      "outputs": []
    },
    {
      "cell_type": "markdown",
      "source": [
        "# 学習"
      ],
      "metadata": {
        "id": "H79mOFW0p1iJ"
      }
    },
    {
      "cell_type": "code",
      "source": [
        "def train_model(model, criterion, optimizer, train_dataloader, val_dataloader):\n",
        "  model.train()\n",
        "  train_batch_loss = []\n",
        "  for x, y in train_dataloader:\n",
        "    x, y = x.to(device), y.to(device)\n",
        "    optimizer.zero_grad()\n",
        "    output = model(x)\n",
        "    loss = criterion(output, y)\n",
        "    loss.backward()\n",
        "    optimizer.step()\n",
        "    train_batch_loss.append(loss.item())\n",
        "  \n",
        "  model.eval()\n",
        "  val_batch_loss = []\n",
        "  with torch.no_grad():\n",
        "    for x, y in val_dataloader:\n",
        "      x, y = x.to(device), y.to(device)\n",
        "      output = model(x)\n",
        "      loss = criterion(output, y)\n",
        "      val_batch_loss.append(loss.item())\n",
        "  \n",
        "  return model, np.mean(train_batch_loss), np.mean(val_batch_loss)"
      ],
      "metadata": {
        "id": "Lr-S2o_opoyj"
      },
      "execution_count": null,
      "outputs": []
    },
    {
      "cell_type": "code",
      "source": [
        "# 訓練データを何周するか\n",
        "num_epochs = 70"
      ],
      "metadata": {
        "id": "X_WCflfXpu4y"
      },
      "execution_count": null,
      "outputs": []
    },
    {
      "cell_type": "code",
      "source": [
        "train_loss = []\n",
        "val_loss = []\n",
        "\n",
        "for epoch in tqdm(range(num_epochs)):\n",
        "  model, train_l, val_l = train_model(model, criterion, optimizer, train_dataloader, val_dataloader)\n",
        "  train_loss.append(train_l)\n",
        "  val_loss.append(val_l)\n",
        "  if epoch % 10 == 0:\n",
        "    print(f\"Train loss: {train_loss[-1]}, Validation loss: {val_loss[-1]}\")\n",
        "\n",
        "plt.plot(train_loss, label=\"train\")\n",
        "plt.plot(val_loss, label=\"val\")\n",
        "plt.title(\"Train Validation Loss\")\n",
        "plt.legend()\n",
        "plt.show()"
      ],
      "metadata": {
        "colab": {
          "base_uri": "https://localhost:8080/",
          "height": 425
        },
        "id": "B3a5_IjUqCS6",
        "outputId": "330627ac-29e8-4d33-e9ef-aa96152e68fc"
      },
      "execution_count": null,
      "outputs": [
        {
          "output_type": "stream",
          "name": "stderr",
          "text": [
            "  1%|▏         | 1/70 [00:10<11:37, 10.11s/it]"
          ]
        },
        {
          "output_type": "stream",
          "name": "stdout",
          "text": [
            "Train loss: 1.306179205417633, Validation loss: 0.9945249449699483\n"
          ]
        },
        {
          "output_type": "stream",
          "name": "stderr",
          "text": [
            " 16%|█▌        | 11/70 [01:19<06:21,  6.47s/it]"
          ]
        },
        {
          "output_type": "stream",
          "name": "stdout",
          "text": [
            "Train loss: 0.016995154482778163, Validation loss: 0.09294192208611268\n"
          ]
        },
        {
          "output_type": "stream",
          "name": "stderr",
          "text": [
            " 30%|███       | 21/70 [02:24<05:18,  6.50s/it]"
          ]
        },
        {
          "output_type": "stream",
          "name": "stdout",
          "text": [
            "Train loss: 0.004041457873342248, Validation loss: 0.13479096824402345\n"
          ]
        },
        {
          "output_type": "stream",
          "name": "stderr",
          "text": [
            " 44%|████▍     | 31/70 [03:29<04:13,  6.51s/it]"
          ]
        },
        {
          "output_type": "stream",
          "name": "stdout",
          "text": [
            "Train loss: 3.7623367837416785e-05, Validation loss: 0.12147510053337295\n"
          ]
        },
        {
          "output_type": "stream",
          "name": "stderr",
          "text": [
            " 59%|█████▊    | 41/70 [04:34<03:07,  6.47s/it]"
          ]
        },
        {
          "output_type": "stream",
          "name": "stdout",
          "text": [
            "Train loss: 7.3550997526581345e-06, Validation loss: 0.13896777489262216\n"
          ]
        },
        {
          "output_type": "stream",
          "name": "stderr",
          "text": [
            " 73%|███████▎  | 51/70 [05:40<02:03,  6.49s/it]"
          ]
        },
        {
          "output_type": "stream",
          "name": "stdout",
          "text": [
            "Train loss: 1.2657312456288614e-06, Validation loss: 0.16028240287956347\n"
          ]
        },
        {
          "output_type": "stream",
          "name": "stderr",
          "text": [
            " 87%|████████▋ | 61/70 [06:44<00:57,  6.40s/it]"
          ]
        },
        {
          "output_type": "stream",
          "name": "stdout",
          "text": [
            "Train loss: 0.005078980013759671, Validation loss: 0.1681426351510999\n"
          ]
        },
        {
          "output_type": "stream",
          "name": "stderr",
          "text": [
            "100%|██████████| 70/70 [07:42<00:00,  6.61s/it]\n"
          ]
        },
        {
          "output_type": "display_data",
          "data": {
            "text/plain": [
              "<Figure size 432x288 with 1 Axes>"
            ],
            "image/png": "[encoded data removed]"
          },
          "metadata": {
            "needs_background": "light"
          }
        }
      ]
    },
    {
      "cell_type": "markdown",
      "source": [
        "# テスト"
      ],
      "metadata": {
        "id": "sOXqGNk2sdCg"
      }
    },
    {
      "cell_type": "code",
      "source": [
        "def test_model(model, test_dataloader):\n",
        "    model.eval()\n",
        "    preds = []\n",
        "    labels = []\n",
        "    with torch.no_grad():\n",
        "        for data, label in test_dataloader:\n",
        "            data, label = data.to(device), label.to(device)\n",
        "            output = model(data)\n",
        "            preds.append(output.argmax(1))\n",
        "            labels.append(label)\n",
        "    preds = torch.cat(preds, axis=0)\n",
        "    labels = torch.cat(labels, axis=0)\n",
        "    preds = preds.cpu().detach().numpy()\n",
        "    labels = labels.cpu().detach().numpy()\n",
        "    return preds, labels"
      ],
      "metadata": {
        "id": "bAaIpJhdqPGq"
      },
      "execution_count": null,
      "outputs": []
    },
    {
      "cell_type": "code",
      "source": [
        "preds, trues = test_model(model, test_dataloader)\n",
        "# 正解率\n",
        "accuracy_score(trues, preds)"
      ],
      "metadata": {
        "colab": {
          "base_uri": "https://localhost:8080/"
        },
        "id": "mHALp23ttVgq",
        "outputId": "8cb59d56-f4e9-49f5-d7fa-86b887564e7b"
      },
      "execution_count": null,
      "outputs": [
        {
          "output_type": "execute_result",
          "data": {
            "text/plain": [
              "0.9808"
            ]
          },
          "metadata": {},
          "execution_count": 16
        }
      ]
    },
    {
      "cell_type": "code",
      "source": [
        "# 混同行列\n",
        "def plot_confusion_matrix(preds, trues, labels):\n",
        "  cm = confusion_matrix(trues, preds, normalize=\"true\")\n",
        "  fig, ax = plt.subplots(figsize=(6,6))\n",
        "  disp = ConfusionMatrixDisplay(confusion_matrix=cm, display_labels=labels)\n",
        "  disp.plot(cmap=\"Blues\", values_format=\".2f\", ax=ax, colorbar=False)\n",
        "  plt.title(\"Normalized confusion matrix\")\n",
        "  plt.show()\n",
        "\n",
        "plot_confusion_matrix(preds, trues, list(range(10)))"
      ],
      "metadata": {
        "colab": {
          "base_uri": "https://localhost:8080/",
          "height": 404
        },
        "id": "Y90MvFEYvPXT",
        "outputId": "b3fbd886-6d22-4664-eb99-78fb5e7f0503"
      },
      "execution_count": null,
      "outputs": [
        {
          "output_type": "display_data",
          "data": {
            "text/plain": [
              "<Figure size 432x432 with 1 Axes>"
            ],
            "image/png": "[encoded data removed]"
          },
          "metadata": {
            "needs_background": "light"
          }
        }
      ]
    },
    {
      "cell_type": "code",
      "source": [],
      "metadata": {
        "id": "Dek1lghXwCCH"
      },
      "execution_count": null,
      "outputs": []
    }
  ]
}